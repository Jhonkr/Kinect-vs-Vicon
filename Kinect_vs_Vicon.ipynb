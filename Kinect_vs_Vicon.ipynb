{
  "nbformat": 4,
  "nbformat_minor": 0,
  "metadata": {
    "colab": {
      "name": "Kinect_vs_Vicon.ipynb",
      "version": "0.3.2",
      "provenance": [],
      "collapsed_sections": []
    },
    "kernelspec": {
      "name": "python3",
      "display_name": "Python 3"
    }
  },
  "cells": [
    {
      "metadata": {
        "id": "wDlBd0hsyYtW",
        "colab_type": "text"
      },
      "cell_type": "markdown",
      "source": [
        "# Kinect vs. Vicon\n"
      ]
    },
    {
      "metadata": {
        "id": "SyhFAa_oypvC",
        "colab_type": "text"
      },
      "cell_type": "markdown",
      "source": [
        "**Vicon & Kinect data obtained by post stroke volunteer while playing a Serius Game.**\n",
        "\n",
        ">*By KOBYLARZ, J - \n",
        "Group of Science and Technology of motor control, PUCPR*\n",
        "\n"
      ]
    },
    {
      "metadata": {
        "id": "2lSvp7ZsVeaY",
        "colab_type": "text"
      },
      "cell_type": "markdown",
      "source": [
        "###Import Python Modules"
      ]
    },
    {
      "metadata": {
        "id": "Favl_aPBlasG",
        "colab_type": "code",
        "colab": {}
      },
      "cell_type": "code",
      "source": [
        "import seaborn as sns\n",
        "import pandas as pd\n",
        "import matplotlib.pyplot as plt\n",
        "import numpy as np"
      ],
      "execution_count": 0,
      "outputs": []
    },
    {
      "metadata": {
        "id": "PinvfROUk2s2",
        "colab_type": "code",
        "colab": {}
      },
      "cell_type": "code",
      "source": [
        "!pip install -U -q PyDrive\n",
        "from pydrive.auth import GoogleAuth\n",
        "from pydrive.drive import GoogleDrive\n",
        "from google.colab import auth\n",
        "from oauth2client.client import GoogleCredentials\n",
        "# Authenticate and create the PyDrive client.\n",
        "auth.authenticate_user()\n",
        "gauth = GoogleAuth()\n",
        "gauth.credentials = GoogleCredentials.get_application_default()\n",
        "drive = GoogleDrive(gauth)"
      ],
      "execution_count": 0,
      "outputs": []
    },
    {
      "metadata": {
        "id": "Ube8wYzyqn_6",
        "colab_type": "code",
        "colab": {}
      },
      "cell_type": "code",
      "source": [
        ""
      ],
      "execution_count": 0,
      "outputs": []
    },
    {
      "metadata": {
        "id": "BOT6pd9jzoKl",
        "colab_type": "text"
      },
      "cell_type": "markdown",
      "source": [
        "###Manage CSV\n"
      ]
    },
    {
      "metadata": {
        "id": "DOuhxv9uVsi0",
        "colab_type": "text"
      },
      "cell_type": "markdown",
      "source": [
        "> Here some important part of project, I don't know why, but every time I tried to import the datasets using Pandas I got an error, so I opened it using LibreOffice and saved as text csv. Meanwhile I changed semicolon to comma.\n",
        "\n",
        "> In case of Vicon file, I pre-selected the part containing the highlighters values in time. \n"
      ]
    },
    {
      "metadata": {
        "id": "Ipoh1Y4dl3qq",
        "colab_type": "code",
        "colab": {}
      },
      "cell_type": "code",
      "source": [
        "#Importing CSV files\n",
        "\n",
        "#Kinect\n",
        "kinect_link = \"https://drive.google.com/open?id=1Bb3-A-YFvX9QzO5MVFY7PNo6OQn9nWK8\"\n",
        "fluff, id = kinect_link.split('=')\n",
        "\n",
        "kinect_downloaded = drive.CreateFile({'id':id}) \n",
        "kinect_downloaded.GetContentFile('Trajetoria-Marcelo-Cabeceio28-01-2019-03-06.csv')  \n",
        "\n",
        "#Creating pandas Dataframe\n",
        "kinect_csv = pd.read_csv('Trajetoria-Marcelo-Cabeceio28-01-2019-03-06.csv')"
      ],
      "execution_count": 0,
      "outputs": []
    },
    {
      "metadata": {
        "id": "hR6CP7_0YpHV",
        "colab_type": "code",
        "colab": {}
      },
      "cell_type": "code",
      "source": [
        "#Importing CSV files\n",
        "\n",
        "#Vicon\n",
        "vicon_link = \"https://drive.google.com/open?id=1LAhYxV83Mm9wY77F2RpmsmWeQAD9hUEs\"\n",
        "fluff, id = vicon_link.split('=')\n",
        "\n",
        "vicon_downloaded = drive.CreateFile({'id':id}) \n",
        "vicon_downloaded.GetContentFile('A_08_Col_01.csv')\n",
        "\n",
        "#Creating pandas Dataframe\n",
        "vicon_csv = pd.read_csv('A_08_Col_01.csv')"
      ],
      "execution_count": 0,
      "outputs": []
    },
    {
      "metadata": {
        "id": "p93ykMGozEqY",
        "colab_type": "code",
        "outputId": "b5270d8d-ce12-410b-e145-b28f3151bf4a",
        "colab": {
          "base_uri": "https://localhost:8080/",
          "height": 204
        }
      },
      "cell_type": "code",
      "source": [
        "kinect_csv.columns = ['Angle', 'Throw', 'Catch']\n",
        "\n",
        "kinect_csv.head()"
      ],
      "execution_count": 6,
      "outputs": [
        {
          "output_type": "execute_result",
          "data": {
            "text/html": [
              "<div>\n",
              "<style scoped>\n",
              "    .dataframe tbody tr th:only-of-type {\n",
              "        vertical-align: middle;\n",
              "    }\n",
              "\n",
              "    .dataframe tbody tr th {\n",
              "        vertical-align: top;\n",
              "    }\n",
              "\n",
              "    .dataframe thead th {\n",
              "        text-align: right;\n",
              "    }\n",
              "</style>\n",
              "<table border=\"1\" class=\"dataframe\">\n",
              "  <thead>\n",
              "    <tr style=\"text-align: right;\">\n",
              "      <th></th>\n",
              "      <th>Angle</th>\n",
              "      <th>Throw</th>\n",
              "      <th>Catch</th>\n",
              "    </tr>\n",
              "  </thead>\n",
              "  <tbody>\n",
              "    <tr>\n",
              "      <th>0</th>\n",
              "      <td>-12.24</td>\n",
              "      <td>0</td>\n",
              "      <td>0</td>\n",
              "    </tr>\n",
              "    <tr>\n",
              "      <th>1</th>\n",
              "      <td>-12.24</td>\n",
              "      <td>0</td>\n",
              "      <td>0</td>\n",
              "    </tr>\n",
              "    <tr>\n",
              "      <th>2</th>\n",
              "      <td>-5.67</td>\n",
              "      <td>0</td>\n",
              "      <td>0</td>\n",
              "    </tr>\n",
              "    <tr>\n",
              "      <th>3</th>\n",
              "      <td>-5.67</td>\n",
              "      <td>0</td>\n",
              "      <td>0</td>\n",
              "    </tr>\n",
              "    <tr>\n",
              "      <th>4</th>\n",
              "      <td>-5.67</td>\n",
              "      <td>0</td>\n",
              "      <td>0</td>\n",
              "    </tr>\n",
              "  </tbody>\n",
              "</table>\n",
              "</div>"
            ],
            "text/plain": [
              "   Angle  Throw  Catch\n",
              "0 -12.24      0      0\n",
              "1 -12.24      0      0\n",
              "2  -5.67      0      0\n",
              "3  -5.67      0      0\n",
              "4  -5.67      0      0"
            ]
          },
          "metadata": {
            "tags": []
          },
          "execution_count": 6
        }
      ]
    },
    {
      "metadata": {
        "id": "Zpo61ByLzIpx",
        "colab_type": "code",
        "outputId": "ba60ab8e-8191-465f-b861-c135972adb92",
        "colab": {
          "base_uri": "https://localhost:8080/",
          "height": 287
        }
      },
      "cell_type": "code",
      "source": [
        "vicon_csv.head()"
      ],
      "execution_count": 7,
      "outputs": [
        {
          "output_type": "execute_result",
          "data": {
            "text/html": [
              "<div>\n",
              "<style scoped>\n",
              "    .dataframe tbody tr th:only-of-type {\n",
              "        vertical-align: middle;\n",
              "    }\n",
              "\n",
              "    .dataframe tbody tr th {\n",
              "        vertical-align: top;\n",
              "    }\n",
              "\n",
              "    .dataframe thead th {\n",
              "        text-align: right;\n",
              "    }\n",
              "</style>\n",
              "<table border=\"1\" class=\"dataframe\">\n",
              "  <thead>\n",
              "    <tr style=\"text-align: right;\">\n",
              "      <th></th>\n",
              "      <th>Unnamed: 0</th>\n",
              "      <th>Unnamed: 1</th>\n",
              "      <th>A_08b:LAH</th>\n",
              "      <th>Unnamed: 3</th>\n",
              "      <th>Unnamed: 4</th>\n",
              "      <th>A_08b:RAH</th>\n",
              "      <th>Unnamed: 6</th>\n",
              "      <th>Unnamed: 7</th>\n",
              "      <th>A_08b:VERT</th>\n",
              "      <th>Unnamed: 9</th>\n",
              "      <th>...</th>\n",
              "      <th>A_08:RANK</th>\n",
              "      <th>Unnamed: 81</th>\n",
              "      <th>Unnamed: 82</th>\n",
              "      <th>A_08:RHEE</th>\n",
              "      <th>Unnamed: 84</th>\n",
              "      <th>Unnamed: 85</th>\n",
              "      <th>A_08:RTOE</th>\n",
              "      <th>Unnamed: 87</th>\n",
              "      <th>Unnamed: 88</th>\n",
              "      <th>Unnamed: 89</th>\n",
              "    </tr>\n",
              "  </thead>\n",
              "  <tbody>\n",
              "    <tr>\n",
              "      <th>0</th>\n",
              "      <td>Frame</td>\n",
              "      <td>Sub Frame</td>\n",
              "      <td>X</td>\n",
              "      <td>Y</td>\n",
              "      <td>Z</td>\n",
              "      <td>X</td>\n",
              "      <td>Y</td>\n",
              "      <td>Z</td>\n",
              "      <td>X</td>\n",
              "      <td>Y</td>\n",
              "      <td>...</td>\n",
              "      <td>X</td>\n",
              "      <td>Y</td>\n",
              "      <td>Z</td>\n",
              "      <td>X</td>\n",
              "      <td>Y</td>\n",
              "      <td>Z</td>\n",
              "      <td>X</td>\n",
              "      <td>Y</td>\n",
              "      <td>Z</td>\n",
              "      <td>NaN</td>\n",
              "    </tr>\n",
              "    <tr>\n",
              "      <th>1</th>\n",
              "      <td>NaN</td>\n",
              "      <td>NaN</td>\n",
              "      <td>mm</td>\n",
              "      <td>mm</td>\n",
              "      <td>mm</td>\n",
              "      <td>mm</td>\n",
              "      <td>mm</td>\n",
              "      <td>mm</td>\n",
              "      <td>mm</td>\n",
              "      <td>mm</td>\n",
              "      <td>...</td>\n",
              "      <td>mm</td>\n",
              "      <td>mm</td>\n",
              "      <td>mm</td>\n",
              "      <td>mm</td>\n",
              "      <td>mm</td>\n",
              "      <td>mm</td>\n",
              "      <td>mm</td>\n",
              "      <td>mm</td>\n",
              "      <td>mm</td>\n",
              "      <td>NaN</td>\n",
              "    </tr>\n",
              "    <tr>\n",
              "      <th>2</th>\n",
              "      <td>1</td>\n",
              "      <td>0</td>\n",
              "      <td>103.922</td>\n",
              "      <td>379.185</td>\n",
              "      <td>1686.18</td>\n",
              "      <td>101.115</td>\n",
              "      <td>476.105</td>\n",
              "      <td>1698.77</td>\n",
              "      <td>227.861</td>\n",
              "      <td>419.546</td>\n",
              "      <td>...</td>\n",
              "      <td>334.758</td>\n",
              "      <td>665.028</td>\n",
              "      <td>84.5873</td>\n",
              "      <td>355.619</td>\n",
              "      <td>606.934</td>\n",
              "      <td>55.9965</td>\n",
              "      <td>162.107</td>\n",
              "      <td>697.255</td>\n",
              "      <td>44.5107</td>\n",
              "      <td>NaN</td>\n",
              "    </tr>\n",
              "    <tr>\n",
              "      <th>3</th>\n",
              "      <td>2</td>\n",
              "      <td>0</td>\n",
              "      <td>104.026</td>\n",
              "      <td>379.289</td>\n",
              "      <td>1686.23</td>\n",
              "      <td>101.161</td>\n",
              "      <td>476.209</td>\n",
              "      <td>1698.8</td>\n",
              "      <td>227.943</td>\n",
              "      <td>419.631</td>\n",
              "      <td>...</td>\n",
              "      <td>334.754</td>\n",
              "      <td>665.024</td>\n",
              "      <td>84.563</td>\n",
              "      <td>355.64</td>\n",
              "      <td>606.889</td>\n",
              "      <td>56.0474</td>\n",
              "      <td>162.128</td>\n",
              "      <td>697.248</td>\n",
              "      <td>44.4955</td>\n",
              "      <td>NaN</td>\n",
              "    </tr>\n",
              "    <tr>\n",
              "      <th>4</th>\n",
              "      <td>3</td>\n",
              "      <td>0</td>\n",
              "      <td>104.062</td>\n",
              "      <td>379.394</td>\n",
              "      <td>1686.29</td>\n",
              "      <td>101.237</td>\n",
              "      <td>476.346</td>\n",
              "      <td>1698.86</td>\n",
              "      <td>228.025</td>\n",
              "      <td>419.721</td>\n",
              "      <td>...</td>\n",
              "      <td>334.772</td>\n",
              "      <td>665.015</td>\n",
              "      <td>84.5989</td>\n",
              "      <td>355.599</td>\n",
              "      <td>606.932</td>\n",
              "      <td>56.0166</td>\n",
              "      <td>162.139</td>\n",
              "      <td>697.267</td>\n",
              "      <td>44.4726</td>\n",
              "      <td>NaN</td>\n",
              "    </tr>\n",
              "  </tbody>\n",
              "</table>\n",
              "<p>5 rows × 90 columns</p>\n",
              "</div>"
            ],
            "text/plain": [
              "  Unnamed: 0 Unnamed: 1 A_08b:LAH Unnamed: 3 Unnamed: 4 A_08b:RAH Unnamed: 6  \\\n",
              "0      Frame  Sub Frame         X          Y          Z         X          Y   \n",
              "1        NaN        NaN        mm         mm         mm        mm         mm   \n",
              "2          1          0   103.922    379.185    1686.18   101.115    476.105   \n",
              "3          2          0   104.026    379.289    1686.23   101.161    476.209   \n",
              "4          3          0   104.062    379.394    1686.29   101.237    476.346   \n",
              "\n",
              "  Unnamed: 7 A_08b:VERT Unnamed: 9     ...     A_08:RANK Unnamed: 81  \\\n",
              "0          Z          X          Y     ...             X           Y   \n",
              "1         mm         mm         mm     ...            mm          mm   \n",
              "2    1698.77    227.861    419.546     ...       334.758     665.028   \n",
              "3     1698.8    227.943    419.631     ...       334.754     665.024   \n",
              "4    1698.86    228.025    419.721     ...       334.772     665.015   \n",
              "\n",
              "  Unnamed: 82 A_08:RHEE Unnamed: 84 Unnamed: 85 A_08:RTOE Unnamed: 87  \\\n",
              "0           Z         X           Y           Z         X           Y   \n",
              "1          mm        mm          mm          mm        mm          mm   \n",
              "2     84.5873   355.619     606.934     55.9965   162.107     697.255   \n",
              "3      84.563    355.64     606.889     56.0474   162.128     697.248   \n",
              "4     84.5989   355.599     606.932     56.0166   162.139     697.267   \n",
              "\n",
              "  Unnamed: 88 Unnamed: 89  \n",
              "0           Z         NaN  \n",
              "1          mm         NaN  \n",
              "2     44.5107         NaN  \n",
              "3     44.4955         NaN  \n",
              "4     44.4726         NaN  \n",
              "\n",
              "[5 rows x 90 columns]"
            ]
          },
          "metadata": {
            "tags": []
          },
          "execution_count": 7
        }
      ]
    },
    {
      "metadata": {
        "id": "3j-sd_pre15Q",
        "colab_type": "text"
      },
      "cell_type": "markdown",
      "source": [
        "> Creating a dataframe from Vicon file with just the Highlighters that matters to calculate the Angle.\n"
      ]
    },
    {
      "metadata": {
        "id": "hAZC2-23hU9e",
        "colab_type": "code",
        "outputId": "21aa7a79-d498-4c81-b054-7daefb973a63",
        "colab": {
          "base_uri": "https://localhost:8080/",
          "height": 204
        }
      },
      "cell_type": "code",
      "source": [
        "#We will get the highlighters Stern(X,Y), Sacro(X,Y), LASI(X,Y) and RASI(X,Y)\n",
        "\n",
        "new_vicon_csv = vicon_csv.filter(['A_08b:STERN','Unnamed: 24','A_08:LASI', 'Unnamed: 45', 'A_08:RASI', 'Unnamed: 48', 'A_08:SACR', 'Unnamed: 51'], axis=1)\n",
        "\n",
        "#Rename the columns\n",
        "\n",
        "new_vicon_csv.rename(columns={'A_08b:STERN':'STERN_X',\n",
        "                              'Unnamed: 24':'STERN_Y',\n",
        "                              'A_08:LASI':'LASI_X',\n",
        "                              'Unnamed: 45':'LASI_Y',\n",
        "                              'A_08:RASI':'RASI_X',\n",
        "                              'Unnamed: 48':'RASI_Y',\n",
        "                              'A_08:SACR':'SACR_X',\n",
        "                              'Unnamed: 51':'SACR_Y'},inplace=True)\n",
        "\n",
        "new_vicon_csv.head()"
      ],
      "execution_count": 8,
      "outputs": [
        {
          "output_type": "execute_result",
          "data": {
            "text/html": [
              "<div>\n",
              "<style scoped>\n",
              "    .dataframe tbody tr th:only-of-type {\n",
              "        vertical-align: middle;\n",
              "    }\n",
              "\n",
              "    .dataframe tbody tr th {\n",
              "        vertical-align: top;\n",
              "    }\n",
              "\n",
              "    .dataframe thead th {\n",
              "        text-align: right;\n",
              "    }\n",
              "</style>\n",
              "<table border=\"1\" class=\"dataframe\">\n",
              "  <thead>\n",
              "    <tr style=\"text-align: right;\">\n",
              "      <th></th>\n",
              "      <th>STERN_X</th>\n",
              "      <th>STERN_Y</th>\n",
              "      <th>LASI_X</th>\n",
              "      <th>LASI_Y</th>\n",
              "      <th>RASI_X</th>\n",
              "      <th>RASI_Y</th>\n",
              "      <th>SACR_X</th>\n",
              "      <th>SACR_Y</th>\n",
              "    </tr>\n",
              "  </thead>\n",
              "  <tbody>\n",
              "    <tr>\n",
              "      <th>0</th>\n",
              "      <td>X</td>\n",
              "      <td>Y</td>\n",
              "      <td>X</td>\n",
              "      <td>Y</td>\n",
              "      <td>X</td>\n",
              "      <td>Y</td>\n",
              "      <td>X</td>\n",
              "      <td>Y</td>\n",
              "    </tr>\n",
              "    <tr>\n",
              "      <th>1</th>\n",
              "      <td>mm</td>\n",
              "      <td>mm</td>\n",
              "      <td>mm</td>\n",
              "      <td>mm</td>\n",
              "      <td>mm</td>\n",
              "      <td>mm</td>\n",
              "      <td>mm</td>\n",
              "      <td>mm</td>\n",
              "    </tr>\n",
              "    <tr>\n",
              "      <th>2</th>\n",
              "      <td>147.559</td>\n",
              "      <td>434.92</td>\n",
              "      <td>123.069</td>\n",
              "      <td>271.349</td>\n",
              "      <td>154.298</td>\n",
              "      <td>590.177</td>\n",
              "      <td>341.8</td>\n",
              "      <td>411.194</td>\n",
              "    </tr>\n",
              "    <tr>\n",
              "      <th>3</th>\n",
              "      <td>147.563</td>\n",
              "      <td>434.974</td>\n",
              "      <td>123.057</td>\n",
              "      <td>271.422</td>\n",
              "      <td>154.305</td>\n",
              "      <td>590.225</td>\n",
              "      <td>341.811</td>\n",
              "      <td>411.264</td>\n",
              "    </tr>\n",
              "    <tr>\n",
              "      <th>4</th>\n",
              "      <td>147.572</td>\n",
              "      <td>435.046</td>\n",
              "      <td>123.023</td>\n",
              "      <td>271.44</td>\n",
              "      <td>154.288</td>\n",
              "      <td>590.262</td>\n",
              "      <td>341.776</td>\n",
              "      <td>411.313</td>\n",
              "    </tr>\n",
              "  </tbody>\n",
              "</table>\n",
              "</div>"
            ],
            "text/plain": [
              "   STERN_X  STERN_Y   LASI_X   LASI_Y   RASI_X   RASI_Y   SACR_X   SACR_Y\n",
              "0        X        Y        X        Y        X        Y        X        Y\n",
              "1       mm       mm       mm       mm       mm       mm       mm       mm\n",
              "2  147.559   434.92  123.069  271.349  154.298  590.177    341.8  411.194\n",
              "3  147.563  434.974  123.057  271.422  154.305  590.225  341.811  411.264\n",
              "4  147.572  435.046  123.023   271.44  154.288  590.262  341.776  411.313"
            ]
          },
          "metadata": {
            "tags": []
          },
          "execution_count": 8
        }
      ]
    },
    {
      "metadata": {
        "id": "8gSdoC47V-kn",
        "colab_type": "text"
      },
      "cell_type": "markdown",
      "source": [
        "##Math"
      ]
    },
    {
      "metadata": {
        "id": "_qSBEgskWBqM",
        "colab_type": "text"
      },
      "cell_type": "markdown",
      "source": [
        "> Ok, so now that we get our database organized the way we wanted, we can calculate the vectors and the get our angle in Vicon data to compare with Kinect data frame.\n",
        "\n",
        "> The way we are going to calculate the angle is the same way that Kinect get its data, just simply doing law of the cosines\n",
        "\n",
        "> Procedure\n",
        "\n",
        "> 1.   STERN_Y - SACR_Y = CO\n",
        "> 2.   (LASI or RASI)_X - SACR_X = CB\n",
        "> 3.   COˆ2 + CBˆ2 = HIP^2\n",
        "> 4.   Angle = cosˆ-1((( COˆ2 - ( CBˆ2 + HIPˆ2)) / (-2 * HIP * CB))))\n",
        "\n",
        "\n",
        "\n",
        "\n",
        "\n"
      ]
    },
    {
      "metadata": {
        "id": "bMcHcRCkWANK",
        "colab_type": "code",
        "colab": {}
      },
      "cell_type": "code",
      "source": [
        "import numpy as np\n",
        "\n",
        "new_vicon_csv.drop([0, 1], inplace = True)\n",
        "new_vicon_csv.index = range(new_vicon_csv.shape[0])\n"
      ],
      "execution_count": 0,
      "outputs": []
    },
    {
      "metadata": {
        "id": "Dnm0IDqyb_9V",
        "colab_type": "code",
        "colab": {
          "base_uri": "https://localhost:8080/",
          "height": 204
        },
        "outputId": "edba9594-fcc9-4d67-b09e-8baf1ebea91a"
      },
      "cell_type": "code",
      "source": [
        "#Apply to every Series the function to_numeric from Pandas, cause the dtype is an object, then there is no agreement of variable types:\n",
        "\n",
        "CO_1=pd.to_numeric(new_vicon_csv['STERN_Y'])\n",
        "CO_2=pd.to_numeric(new_vicon_csv['SACR_Y'])\n",
        "\n",
        "CB_1=pd.to_numeric(new_vicon_csv['RASI_X'])\n",
        "CB_2=pd.to_numeric(new_vicon_csv['SACR_X'])\n",
        "\n",
        "CO = CO_1 - CO_2\n",
        "CB = CB_1 - CB_2\n",
        "HIP = np.sqrt(CO*CO + CB*CB)\n",
        "\n",
        "#Instantiating a new column called 'Angle' with the values of the calculated angles:\n",
        "\n",
        "new_vicon_csv['Angle'] = np.degrees(np.arccos((CO**2 - CB**2 - HIP**2)/(-2.0 * HIP * CB)))\n",
        "\n",
        "new_vicon_csv.head()"
      ],
      "execution_count": 10,
      "outputs": [
        {
          "output_type": "execute_result",
          "data": {
            "text/html": [
              "<div>\n",
              "<style scoped>\n",
              "    .dataframe tbody tr th:only-of-type {\n",
              "        vertical-align: middle;\n",
              "    }\n",
              "\n",
              "    .dataframe tbody tr th {\n",
              "        vertical-align: top;\n",
              "    }\n",
              "\n",
              "    .dataframe thead th {\n",
              "        text-align: right;\n",
              "    }\n",
              "</style>\n",
              "<table border=\"1\" class=\"dataframe\">\n",
              "  <thead>\n",
              "    <tr style=\"text-align: right;\">\n",
              "      <th></th>\n",
              "      <th>STERN_X</th>\n",
              "      <th>STERN_Y</th>\n",
              "      <th>LASI_X</th>\n",
              "      <th>LASI_Y</th>\n",
              "      <th>RASI_X</th>\n",
              "      <th>RASI_Y</th>\n",
              "      <th>SACR_X</th>\n",
              "      <th>SACR_Y</th>\n",
              "      <th>Angle</th>\n",
              "    </tr>\n",
              "  </thead>\n",
              "  <tbody>\n",
              "    <tr>\n",
              "      <th>0</th>\n",
              "      <td>147.559</td>\n",
              "      <td>434.92</td>\n",
              "      <td>123.069</td>\n",
              "      <td>271.349</td>\n",
              "      <td>154.298</td>\n",
              "      <td>590.177</td>\n",
              "      <td>341.8</td>\n",
              "      <td>411.194</td>\n",
              "      <td>172.788273</td>\n",
              "    </tr>\n",
              "    <tr>\n",
              "      <th>1</th>\n",
              "      <td>147.563</td>\n",
              "      <td>434.974</td>\n",
              "      <td>123.057</td>\n",
              "      <td>271.422</td>\n",
              "      <td>154.305</td>\n",
              "      <td>590.225</td>\n",
              "      <td>341.811</td>\n",
              "      <td>411.264</td>\n",
              "      <td>172.793238</td>\n",
              "    </tr>\n",
              "    <tr>\n",
              "      <th>2</th>\n",
              "      <td>147.572</td>\n",
              "      <td>435.046</td>\n",
              "      <td>123.023</td>\n",
              "      <td>271.44</td>\n",
              "      <td>154.288</td>\n",
              "      <td>590.262</td>\n",
              "      <td>341.776</td>\n",
              "      <td>411.313</td>\n",
              "      <td>172.785635</td>\n",
              "    </tr>\n",
              "    <tr>\n",
              "      <th>3</th>\n",
              "      <td>147.555</td>\n",
              "      <td>435.117</td>\n",
              "      <td>123.02</td>\n",
              "      <td>271.485</td>\n",
              "      <td>154.242</td>\n",
              "      <td>590.301</td>\n",
              "      <td>341.773</td>\n",
              "      <td>411.343</td>\n",
              "      <td>172.774943</td>\n",
              "    </tr>\n",
              "    <tr>\n",
              "      <th>4</th>\n",
              "      <td>147.566</td>\n",
              "      <td>435.213</td>\n",
              "      <td>123.049</td>\n",
              "      <td>271.546</td>\n",
              "      <td>154.194</td>\n",
              "      <td>590.348</td>\n",
              "      <td>341.768</td>\n",
              "      <td>411.374</td>\n",
              "      <td>172.757042</td>\n",
              "    </tr>\n",
              "  </tbody>\n",
              "</table>\n",
              "</div>"
            ],
            "text/plain": [
              "   STERN_X  STERN_Y   LASI_X   LASI_Y   RASI_X   RASI_Y   SACR_X   SACR_Y  \\\n",
              "0  147.559   434.92  123.069  271.349  154.298  590.177    341.8  411.194   \n",
              "1  147.563  434.974  123.057  271.422  154.305  590.225  341.811  411.264   \n",
              "2  147.572  435.046  123.023   271.44  154.288  590.262  341.776  411.313   \n",
              "3  147.555  435.117   123.02  271.485  154.242  590.301  341.773  411.343   \n",
              "4  147.566  435.213  123.049  271.546  154.194  590.348  341.768  411.374   \n",
              "\n",
              "        Angle  \n",
              "0  172.788273  \n",
              "1  172.793238  \n",
              "2  172.785635  \n",
              "3  172.774943  \n",
              "4  172.757042  "
            ]
          },
          "metadata": {
            "tags": []
          },
          "execution_count": 10
        }
      ]
    },
    {
      "metadata": {
        "id": "T16bm2Y5tRX6",
        "colab_type": "text"
      },
      "cell_type": "markdown",
      "source": [
        "##Graphs"
      ]
    },
    {
      "metadata": {
        "id": "xosBsTCstSn9",
        "colab_type": "code",
        "colab": {
          "base_uri": "https://localhost:8080/",
          "height": 364
        },
        "outputId": "004f6f42-35cb-44b9-dd35-b4adc996db32"
      },
      "cell_type": "code",
      "source": [
        "#Just kinect angle in time\n",
        "\n",
        "kinect_csv['Angle'].plot()"
      ],
      "execution_count": 11,
      "outputs": [
        {
          "output_type": "execute_result",
          "data": {
            "text/plain": [
              "<matplotlib.axes._subplots.AxesSubplot at 0x7f791c81aba8>"
            ]
          },
          "metadata": {
            "tags": []
          },
          "execution_count": 11
        },
        {
          "output_type": "display_data",
          "data": {
            "image/png": "[encoded data removed]",
            "text/plain": [
              "<Figure size 576x396 with 1 Axes>"
            ]
          },
          "metadata": {
            "tags": []
          }
        }
      ]
    },
    {
      "metadata": {
        "id": "EHTexf1dtcgq",
        "colab_type": "code",
        "colab": {
          "base_uri": "https://localhost:8080/",
          "height": 364
        },
        "outputId": "0bd1f1ba-8cad-49bf-8bd1-f45d3982319a"
      },
      "cell_type": "code",
      "source": [
        "#Vicon angle of movement in time\n",
        "\n",
        "new_vicon_csv['Angle'].plot()"
      ],
      "execution_count": 12,
      "outputs": [
        {
          "output_type": "execute_result",
          "data": {
            "text/plain": [
              "<matplotlib.axes._subplots.AxesSubplot at 0x7f791bd7e3c8>"
            ]
          },
          "metadata": {
            "tags": []
          },
          "execution_count": 12
        },
        {
          "output_type": "display_data",
          "data": {
            "image/png": "[encoded data removed]",
            "text/plain": [
              "<Figure size 576x396 with 1 Axes>"
            ]
          },
          "metadata": {
            "tags": []
          }
        }
      ]
    },
    {
      "metadata": {
        "id": "Om0kTBYPtgaD",
        "colab_type": "code",
        "colab": {
          "base_uri": "https://localhost:8080/",
          "height": 497
        },
        "outputId": "dcaaf174-9bef-4756-a4a4-287bc406209e"
      },
      "cell_type": "code",
      "source": [
        "#All Kinect movement { Blue : Angle, Red: Throw, Green : Catch} \n",
        "\n",
        "fig = plt.figure(figsize=(12,8))\n",
        "ax1 = fig.add_subplot(111)\n",
        "\n",
        "ax1.set_xlabel('Time')\n",
        "ax1.set_ylabel('Amplitude', color='k')\n",
        "ax1.plot(kinect_csv['Angle'], color='b')\n",
        "ax2 = ax1.twinx() \n",
        "\n",
        "ax2.set_ylabel('Ball', color='k')\n",
        "ax2.plot(kinect_csv['Throw']*12, color='r')\n",
        "ax2.plot(kinect_csv['Catch']*12, color='g')\n",
        "ax2.tick_params(axis='y', labelcolor='k')\n",
        "\n",
        "plt.show()"
      ],
      "execution_count": 61,
      "outputs": [
        {
          "output_type": "display_data",
          "data": {
            "image/png": "[encoded data removed]",
            "text/plain": [
              "<Figure size 864x576 with 2 Axes>"
            ]
          },
          "metadata": {
            "tags": []
          }
        }
      ]
    },
    {
      "metadata": {
        "id": "3XdCbcSEtywR",
        "colab_type": "code",
        "colab": {}
      },
      "cell_type": "code",
      "source": [
        ""
      ],
      "execution_count": 0,
      "outputs": []
    }
  ]
}